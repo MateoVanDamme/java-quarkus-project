{
 "cells": [
  {
   "attachments": {},
   "cell_type": "markdown",
   "metadata": {},
   "source": [
    "# Demo project"
   ]
  },
  {
   "attachments": {},
   "cell_type": "markdown",
   "metadata": {},
   "source": [
    "To run the files you need to first install keycloak: `pip install python-keycloak`\n",
    "\n",
    "If you run the projects in docker set containerMode to True. \n",
    "If you run the projects in monolith mode set containerMode to False. \n",
    "\n",
    "We currently have an issue where all endpoints are only reachable from the browser. This means that you have to test it with this notbook you have to set the containerMode to False"
   ]
  },
  {
   "attachments": {},
   "cell_type": "markdown",
   "metadata": {},
   "source": [
    "### Demo business scnario 2&3 (catalogus, recommendation)\n",
    "\n",
    "In  this section we test the catalogus, ratings and  analytics server. First we populate the catalogus and ratings with data and finally we will ask a recommendation for a fictional user based on one of his previous ratings."
   ]
  },
  {
   "cell_type": "code",
   "execution_count": 1,
   "metadata": {},
   "outputs": [
    {
     "name": "stdout",
     "output_type": "stream",
     "text": [
      "Token: eyJhbGciOiJSUzI1NiIsInR5cCIgOiAiSldUIiwia2lkIiA6ICJOdGpHdVVpX1F4bFQ4aFBmaHA3T2lHTVI3X1hzc1pzS2IzNjRFYWhQMzFrIn0.eyJleHAiOjE2NzE0MDM1MzIsImlhdCI6MTY3MTQwMzIzMiwianRpIjoiZTllODdhOTktMTE2YS00OTA1LWJhNjctMzZmZWQ3OWMzYTE0IiwiaXNzIjoiaHR0cDovL2xvY2FsaG9zdDo4MTgwL3JlYWxtcy9xdWFya3VzIiwic3ViIjoiMmRiZTk1OWUtOThjNS00YmRlLWI2NDgtMjZmYTg0NzE3YzIwIiwidHlwIjoiQmVhcmVyIiwiYXpwIjoicXVhcmt1cy1hcHAiLCJzZXNzaW9uX3N0YXRlIjoiYTZmNjMyZjEtNWU5Ni00ZTI5LWFlMTMtNDdiYTEwYjg2YTIwIiwic2NvcGUiOiJvcGVuaWQgbWljcm9wcm9maWxlLWp3dCIsInNpZCI6ImE2ZjYzMmYxLTVlOTYtNGUyOS1hZTEzLTQ3YmExMGI4NmEyMCIsInVwbiI6ImFsaWNlIiwiZ3JvdXBzIjpbImFkbWluIiwidXNlciJdfQ.NL8ke3XYKvUP1IwcJh2wjpP7EJteWvtk1MSe4CYG5QEwoaz_OFWPFnmu8_oy0Ts2oq4BDt4hjT9Lilh8HqfBPXOeFlKYj_R1-5baTUOa9UrNpXOdxGn8k5yA_Xh5P3nEAtO4w1Np9ZK7IF5vnPga4nPuD-hbajKyTNCX1AsdUfzad1C6P0HtgQe3dc9HG4-CbK5xKj9ZUTQVQQ2LQDw7GcCjscbVb1YaPZRi2LIRrqWplC6h91jMOhbOMoeSnuxMy_jnQJD4K1PYkX6sau26fzAosUkgcu3YUIRmeXSTJf_-Oa4lLruZIU2M-nClSjVPrBC1NnpzgLxJoJU3jzx4NA\n"
     ]
    }
   ],
   "source": [
    "from modules import clientCatalogus\n",
    "from modules import clientRatings\n",
    "from modules import authorize\n",
    "from modules import clientTickets, clientStaff\n",
    "\n",
    "containerMode = False\n",
    "token = \"\"\n",
    "\n",
    "if not containerMode:\n",
    "    token = authorize.authorize(containerMode = containerMode)"
   ]
  },
  {
   "attachments": {},
   "cell_type": "markdown",
   "metadata": {},
   "source": [
    "Add exhibitions"
   ]
  },
  {
   "cell_type": "code",
   "execution_count": 2,
   "metadata": {},
   "outputs": [
    {
     "name": "stdout",
     "output_type": "stream",
     "text": [
      "sending post\n",
      "201 -> http://localhost:8080/catalogus/exhibitions/639f96e3d3d5141c488533f8\n",
      "sending post\n",
      "201 -> http://localhost:8080/catalogus/exhibitions/639f96e7d3d5141c488533f9\n",
      "Sending get to http://localhost:8080/catalogus/exhibitions\n",
      "{\n",
      "\titems: [{\n",
      "\tid: 639f96e3d3d5141c488533f8,\n",
      "\tname: Leanardo Da Vinvi Exhibition,\n",
      "\tdescription: Renaissance,\n",
      "\tstartDate: 2022-03-10T00:00:00.000+00:00,\n",
      "\tendDate: 2022-03-10T00:00:00.000+00:00\n",
      "},\n",
      "{\n",
      "\tid: 639f96e7d3d5141c488533f9,\n",
      "\tname: René Magritte Exhibition,\n",
      "\tdescription: Surrealisme,\n",
      "\tstartDate: 2022-03-10T00:00:00.000+00:00,\n",
      "\tendDate: 2022-03-10T00:00:00.000+00:00\n",
      "}],\n",
      "\tnext: False,\n",
      "\tcount: 2\n",
      "}\n"
     ]
    }
   ],
   "source": [
    "# Add exhibitions\n",
    "clientCatalogus.postExhibition(token,\"Leanardo Da Vinvi Exhibition\", \"Renaissance\", \"2022-03-10\", \"2022-03-10\", containerMode=containerMode)\n",
    "clientCatalogus.postExhibition(token,\"René Magritte Exhibition\", \"Surrealisme\", \"2022-03-10\", \"2022-03-10\", containerMode=containerMode)\n",
    "\n",
    "# Get exhibitions\n",
    "clientCatalogus.getExhibitions(containerMode=containerMode)"
   ]
  },
  {
   "attachments": {},
   "cell_type": "markdown",
   "metadata": {},
   "source": [
    "Add paintings"
   ]
  },
  {
   "cell_type": "code",
   "execution_count": 3,
   "metadata": {},
   "outputs": [
    {
     "name": "stdout",
     "output_type": "stream",
     "text": [
      "sending post\n",
      "201 -> http://localhost:8080/catalogus/paintings/639f96f0d3d5141c488533fa\n",
      "sending post\n",
      "201 -> http://localhost:8080/catalogus/paintings/639f96f5d3d5141c488533fb\n",
      "sending post\n",
      "201 -> http://localhost:8080/catalogus/paintings/639f96f7d3d5141c488533fc\n",
      "sending post\n",
      "201 -> http://localhost:8080/catalogus/paintings/639f96fcd3d5141c488533fd\n",
      "sending post\n",
      "201 -> http://localhost:8080/catalogus/paintings/639f9700d3d5141c488533fe\n",
      "Sending get to http://localhost:8080/catalogus/paintings\n",
      "{\n",
      "\titems: [{\n",
      "\tid: 639f96f0d3d5141c488533fa,\n",
      "\tname: \"Ceci nest pas une pipe\",\n",
      "\tartist: René Magritte,\n",
      "\tdescription: Totally not a pipe,\n",
      "\tstyle: Surrealisme,\n",
      "\texhibitionID: René Magritte Exhibition,\n",
      "\tlocation: 45A\n",
      "},\n",
      "{\n",
      "\tid: 639f96f5d3d5141c488533fb,\n",
      "\tname: The Son of Man,\n",
      "\tartist: René Magritte,\n",
      "\tdescription: Apple being thrown at a man,\n",
      "\tstyle: Surrealisme,\n",
      "\texhibitionID: René Magritte Exhibition,\n",
      "\tlocation: 45B\n",
      "},\n",
      "{\n",
      "\tid: 639f96f7d3d5141c488533fc,\n",
      "\tname: Golconda,\n",
      "\tartist: René Magritte,\n",
      "\tdescription: Raining men,\n",
      "\tstyle: Surrealisme,\n",
      "\texhibitionID: René Magritte Exhibition,\n",
      "\tlocation: 12A\n",
      "},\n",
      "{\n",
      "\tid: 639f96fcd3d5141c488533fd,\n",
      "\tname: Mona Lisa,\n",
      "\tartist: Leonardo Da Vinci,\n",
      "\tdescription: Mid,\n",
      "\tstyle: Renaissance,\n",
      "\texhibitionID: Leanardo Da Vinvi Exhibition,\n",
      "\tlocation: 5c\n",
      "},\n",
      "{\n",
      "\tid: 639f9700d3d5141c488533fe,\n",
      "\tname: Last Supper,\n",
      "\tartist: Leonardo Da Vinci,\n",
      "\tdescription: Last Supper,\n",
      "\tstyle: Renaissance,\n",
      "\texhibitionID: Leanardo Da Vinvi Exhibition,\n",
      "\tlocation: 5D\n",
      "}],\n",
      "\tnext: False,\n",
      "\tcount: 5\n",
      "}\n"
     ]
    }
   ],
   "source": [
    "# Add paintings\n",
    "clientCatalogus.postPainting(token, \"Ceci n'est pas une pipe\", \"René Magritte\", \"Totally not a pipe\", \"Surrealisme\", \"René Magritte Exhibition\", \"45A\")\n",
    "clientCatalogus.postPainting(token, \"The Son of Man\", \"René Magritte\", \"Apple being thrown at a man\", \"Surrealisme\", \"René Magritte Exhibition\", \"45B\")\n",
    "clientCatalogus.postPainting(token, \"Golconda\", \"René Magritte\", \"Raining men\", \"Surrealisme\", \"René Magritte Exhibition\", \"12A\")\n",
    "\n",
    "locationA = clientCatalogus.postPainting(token, \"Mona Lisa\", \"Leonardo Da Vinci\", \"Mid\", \"Renaissance\", \"Leanardo Da Vinvi Exhibition\", \"5c\")\n",
    "locationB = clientCatalogus.postPainting(token, \"Last Supper\", \"Leonardo Da Vinci\", \"Last Supper\", \"Renaissance\", \"Leanardo Da Vinvi Exhibition\", \"5D\")\n",
    "\n",
    "# Get paintings\n",
    "clientCatalogus.getPaintings()"
   ]
  },
  {
   "cell_type": "code",
   "execution_count": 4,
   "metadata": {},
   "outputs": [
    {
     "name": "stdout",
     "output_type": "stream",
     "text": [
      "639f96fcd3d5141c488533fd\n",
      "639f9700d3d5141c488533fe\n"
     ]
    }
   ],
   "source": [
    "paintingidA   = locationA.split(\"/\")[-1]\n",
    "paintingidB   = locationB.split(\"/\")[-1]\n",
    "print(paintingidA)\n",
    "print(paintingidB)"
   ]
  },
  {
   "cell_type": "code",
   "execution_count": 5,
   "metadata": {},
   "outputs": [
    {
     "name": "stdout",
     "output_type": "stream",
     "text": [
      "sending post\n",
      "201 -> http://localhost:8080/ratings/639f96fcd3d5141c488533fd/639f9709d3d5141c488533ff\n",
      "sending post\n",
      "201 -> http://localhost:8080/ratings/639f96fcd3d5141c488533fd/639f970ed3d5141c48853400\n",
      "sending post\n",
      "201 -> http://localhost:8080/ratings/639f96fcd3d5141c488533fd/639f9712d3d5141c48853401\n",
      "sending post\n",
      "201 -> http://localhost:8080/ratings/639f9700d3d5141c488533fe/639f9717d3d5141c48853402\n",
      "sending post\n",
      "201 -> http://localhost:8080/ratings/639f9700d3d5141c488533fe/639f971bd3d5141c48853403\n",
      "sending post\n",
      "201 -> http://localhost:8080/ratings/639f9700d3d5141c488533fe/639f971fd3d5141c48853404\n",
      "Sending get\n",
      "{\n",
      "\tratings: [{\n",
      "\tid: 639f9709d3d5141c488533ff,\n",
      "\tcreatedAt: 2022-12-18T22:41:13.681Z,\n",
      "\tauthor: alice,\n",
      "\tpaintingId: 639f96fcd3d5141c488533fd,\n",
      "\tcontent: mooi schilderij idk,\n",
      "\trating: 0\n",
      "},\n",
      "{\n",
      "\tid: 639f970ed3d5141c48853400,\n",
      "\tcreatedAt: 2022-12-18T22:41:18.256Z,\n",
      "\tauthor: alice,\n",
      "\tpaintingId: 639f96fcd3d5141c488533fd,\n",
      "\tcontent: mooi schilderij idk,\n",
      "\trating: 1\n",
      "},\n",
      "{\n",
      "\tid: 639f9712d3d5141c48853401,\n",
      "\tcreatedAt: 2022-12-18T22:41:22.694Z,\n",
      "\tauthor: alice,\n",
      "\tpaintingId: 639f96fcd3d5141c488533fd,\n",
      "\tcontent: mooi schilderij idk,\n",
      "\trating: 2\n",
      "},\n",
      "{\n",
      "\tid: 639f9717d3d5141c48853402,\n",
      "\tcreatedAt: 2022-12-18T22:41:27.069Z,\n",
      "\tauthor: alice,\n",
      "\tpaintingId: 639f9700d3d5141c488533fe,\n",
      "\tcontent: mooi schilderij idk,\n",
      "\trating: 0\n",
      "},\n",
      "{\n",
      "\tid: 639f971bd3d5141c48853403,\n",
      "\tcreatedAt: 2022-12-18T22:41:31.465Z,\n",
      "\tauthor: alice,\n",
      "\tpaintingId: 639f9700d3d5141c488533fe,\n",
      "\tcontent: mooi schilderij idk,\n",
      "\trating: 1\n",
      "},\n",
      "{\n",
      "\tid: 639f971fd3d5141c48853404,\n",
      "\tcreatedAt: 2022-12-18T22:41:35.955Z,\n",
      "\tauthor: alice,\n",
      "\tpaintingId: 639f9700d3d5141c488533fe,\n",
      "\tcontent: mooi schilderij idk,\n",
      "\trating: 2\n",
      "}],\n",
      "\tnext: False,\n",
      "\tcount: 6\n",
      "}\n"
     ]
    }
   ],
   "source": [
    "# Add ratings\n",
    "for i in range(3):\n",
    "    clientRatings.postRating(token, paintingidA, \"mooi schilderij idk\", i%5)\n",
    "for i in range(3):\n",
    "    clientRatings.postRating(token, paintingidB, \"mooi schilderij idk\", i%5)\n",
    "# Get paintings\n",
    "clientRatings.getRatings()"
   ]
  },
  {
   "attachments": {},
   "cell_type": "markdown",
   "metadata": {},
   "source": [
    "### Get recommendation\n",
    "\n",
    "The simple recommendation algorithm gives us a similar painting if our rating was high and a dissimilar rating if the rating was low"
   ]
  },
  {
   "cell_type": "code",
   "execution_count": 6,
   "metadata": {},
   "outputs": [
    {
     "name": "stdout",
     "output_type": "stream",
     "text": [
      "Sending get\n",
      "Error code is 200 with type <class 'int'>\n"
     ]
    },
    {
     "data": {
      "text/plain": [
       "{'id': '639f96fcd3d5141c488533fd',\n",
       " 'name': 'Mona Lisa',\n",
       " 'artist': 'Leonardo Da Vinci',\n",
       " 'description': 'Mid',\n",
       " 'style': 'Renaissance',\n",
       " 'exhibitionID': 'Leanardo Da Vinvi Exhibition',\n",
       " 'location': '5c'}"
      ]
     },
     "execution_count": 6,
     "metadata": {},
     "output_type": "execute_result"
    }
   ],
   "source": [
    "from modules import clientRecommendation\n",
    "clientRecommendation.getRecommendation(token, paintingidA, 5)"
   ]
  },
  {
   "cell_type": "code",
   "execution_count": 7,
   "metadata": {},
   "outputs": [
    {
     "name": "stdout",
     "output_type": "stream",
     "text": [
      "Sending get\n",
      "Error code is 200 with type <class 'int'>\n"
     ]
    },
    {
     "data": {
      "text/plain": [
       "{'id': '639f96f0d3d5141c488533fa',\n",
       " 'name': \"Ceci n'est pas une pipe\",\n",
       " 'artist': 'René Magritte',\n",
       " 'description': 'Totally not a pipe',\n",
       " 'style': 'Surrealisme',\n",
       " 'exhibitionID': 'René Magritte Exhibition',\n",
       " 'location': '45A'}"
      ]
     },
     "execution_count": 7,
     "metadata": {},
     "output_type": "execute_result"
    }
   ],
   "source": [
    "clientRecommendation.getRecommendation(token, paintingidA, 0)"
   ]
  },
  {
   "attachments": {},
   "cell_type": "markdown",
   "metadata": {},
   "source": [
    "### Demo business scenario 1&4 (tickers en staff)"
   ]
  },
  {
   "attachments": {},
   "cell_type": "markdown",
   "metadata": {},
   "source": [
    "Customers can buy tickets with the ticket-service, to run the museum we need to have enough staff planned to handle the amount of tickets sold.\n",
    "\n",
    "An HR-manager can use the staff service to put staff members on the schedule for a certain day. We allow for 10 visitors per staff member."
   ]
  },
  {
   "cell_type": "code",
   "execution_count": 8,
   "metadata": {},
   "outputs": [
    {
     "name": "stdout",
     "output_type": "stream",
     "text": [
      "Sending get\n",
      "{\n",
      "\tstaffmember: [{\n",
      "\tid: 639f9739d3d5141c48853406,\n",
      "\tname: Jan,\n",
      "\taccepted: 2021-03-10T00:00:00.000+00:00,\n",
      "\ttype: Guard,\n",
      "\tplanned: 2023-09-12T00:00:00.000+00:00\n",
      "},\n",
      "{\n",
      "\tid: 639f9740d3d5141c48853407,\n",
      "\tname: Joeri,\n",
      "\taccepted: 2020-05-21T00:00:00.000+00:00,\n",
      "\ttype: Cleaning,\n",
      "\tplanned: 2023-09-12T00:00:00.000+00:00\n",
      "},\n",
      "{\n",
      "\tid: 639f9747d3d5141c48853408,\n",
      "\tname: Lionel,\n",
      "\taccepted: 2009-03-10T00:00:00.000+00:00,\n",
      "\ttype: Guide,\n",
      "\tplanned: 2023-09-12T00:00:00.000+00:00\n",
      "}],\n",
      "\tnext: False,\n",
      "\tcount: 3\n",
      "}\n"
     ]
    }
   ],
   "source": [
    "# Add Staffmembers\n",
    "\n",
    "clientStaff.postStaff(token, \"Jan\", \"2021-03-10\", \"Guard\", \"2022-21-12\")\n",
    "\n",
    "clientStaff.postStaff(token, \"Joeri\", \"2020-05-21\", \"Cleaning\", \"2022-21-12\")\n",
    "\n",
    "clientStaff.postStaff(token, \"Lionel\", \"2009-03-10\", \"Guide\", \"2022-21-12\")\n",
    "\n",
    "clientStaff.getStaff()"
   ]
  },
  {
   "cell_type": "code",
   "execution_count": 9,
   "metadata": {},
   "outputs": [
    {
     "name": "stdout",
     "output_type": "stream",
     "text": [
      "DENIED\n",
      "VERIFIED\n",
      "This date is not available for booking online, please contact the Museum for this booking.\n"
     ]
    }
   ],
   "source": [
    "\n",
    "\n",
    "#adding a staffmember for 2023-03-10 to the staff-service, making 10 extra tickets available in the ticket-service\n",
    "clientStaff.postStaff(token, \"name3\", \"2023-03-10\", \"type\", \"2023-03-10\")\n",
    "\n",
    "#Trying to buy more tickets than are available for a certain day will return a ticket with status DENIED\n",
    "ticket1uri = clientTickets.postTicket(token, 100, \"2023-03-10\", \"email\", True)\n",
    "#Checking ticket status\n",
    "print(clientTickets.getTicket(ticket1uri, token))\n",
    "\n",
    "#Buying an amount of tickets that is available will return a ticket with a VERIFIED status\n",
    "ticket2uri = clientTickets.postTicket(token, 1, \"2023-03-10\", \"email\", True)\n",
    "#Checking ticket status\n",
    "print(clientTickets.getTicket(ticket2uri, token))\n",
    "\n",
    "#Buying a ticket on a day that is not yet planned by the staff service will return a 500 internal server error with a message for the customer\n",
    "ticket3 = clientTickets.postTicket(token, 1, \"2024-03-10\", \"email\", True)\n",
    "#Checking ticket status\n",
    "print(ticket3)"
   ]
  }
 ],
 "metadata": {
  "kernelspec": {
   "display_name": "Python 3",
   "language": "python",
   "name": "python3"
  },
  "language_info": {
   "codemirror_mode": {
    "name": "ipython",
    "version": 3
   },
   "file_extension": ".py",
   "mimetype": "text/x-python",
   "name": "python",
   "nbconvert_exporter": "python",
   "pygments_lexer": "ipython3",
   "version": "3.10.9"
  },
  "orig_nbformat": 4,
  "vscode": {
   "interpreter": {
    "hash": "768a2cbd7552b80dc53fceef6e3120979ba600ff5dc62564d9df67d8c140bfd8"
   }
  }
 },
 "nbformat": 4,
 "nbformat_minor": 2
}
